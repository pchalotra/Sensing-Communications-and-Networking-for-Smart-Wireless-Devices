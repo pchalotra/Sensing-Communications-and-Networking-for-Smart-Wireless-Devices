{
 "cells": [
  {
   "cell_type": "markdown",
   "id": "d4b58d06",
   "metadata": {},
   "source": [
    "# Question (1)"
   ]
  },
  {
   "cell_type": "code",
   "execution_count": 1,
   "id": "72adb7ae",
   "metadata": {},
   "outputs": [],
   "source": [
    "import numpy as np\n",
    "import matplotlib.pyplot as plt\n",
    "import math as m"
   ]
  },
  {
   "cell_type": "markdown",
   "id": "56c01fea",
   "metadata": {},
   "source": [
    "| orientation | 1 |\n",
    "| ----------- | --|\n",
    "|  Dist| RSSI |\n",
    "|  1   | -49  |\n",
    "|  7   | -64  |\n",
    "|  37  | -80  |\n",
    "|  42  | -84  |\n",
    "|  11  | -69  |\n",
    "|  21  | -76  |\n",
    "\n",
    "| orientation | 2 |\n",
    "| ----------- | - |\n",
    "|  Dist| RSSI |\n",
    "|  2   | -51  |\n",
    "|  8   | -66  |\n",
    "|  103  | -91 |\n",
    "|  147 | -96  |\n",
    "|  12  | -70  |\n",
    "|  15  | -72  |\n",
    "\n",
    "| orientation | 3 |\n",
    "| ----------- | - |\n",
    "|  Dist| RSSI |\n",
    "|  3   | -57  |\n",
    "|  9   | -67  |\n",
    "|  29  | -78  |\n",
    "|  131 | -92  |\n",
    "|  5   | -61  |\n",
    "|  66  | -90  |\n",
    "\n",
    "| orientation | 4 |\n",
    "| ----------- | --|\n",
    "|  Dist| RSSI |\n",
    "|  4   | -60  |\n",
    "|  13  | -71  |\n",
    "|  17  | -74  |\n",
    "|  23  | -77  |\n",
    "|  6   | -63  |\n",
    "|  25  | -76  |\n"
   ]
  },
  {
   "cell_type": "code",
   "execution_count": 2,
   "id": "a35ccfec",
   "metadata": {},
   "outputs": [],
   "source": [
    "#now take the array of dist and rssi samples\n",
    "dist=[1,7,37,42,11,21,2,8,103,147,12,15,3,9,29,131,5,66,4,13,17,23,6,25]\n",
    "RSSI=[-49,-64,-80,-84,-69,-76,-51,-66,-91,-96,-70,-72,-57,-67,-78,-92,-61,-90,-60,-71,-74,-77,-63,-76]\n",
    "y=RSSI"
   ]
  },
  {
   "cell_type": "code",
   "execution_count": 3,
   "id": "edb558bc",
   "metadata": {},
   "outputs": [
    {
     "data": {
      "text/plain": [
       "array([0.        , 0.84509804, 1.56820172, 1.62324929, 1.04139269,\n",
       "       1.32221929, 0.30103   , 0.90308999, 2.01283722, 2.16731733,\n",
       "       1.07918125, 1.17609126, 0.47712125, 0.95424251, 1.462398  ,\n",
       "       2.1172713 , 0.69897   , 1.81954394, 0.60205999, 1.11394335,\n",
       "       1.23044892, 1.36172784, 0.77815125, 1.39794001])"
      ]
     },
     "execution_count": 3,
     "metadata": {},
     "output_type": "execute_result"
    }
   ],
   "source": [
    "x=[]\n",
    "for i in range(24):\n",
    "         x.append(np.log10(dist[i]))\n",
    "x=np.array(x)\n",
    "x"
   ]
  },
  {
   "cell_type": "code",
   "execution_count": 4,
   "id": "ac2f4243",
   "metadata": {},
   "outputs": [
    {
     "data": {
      "image/png": "[encoded data removed]",
      "text/plain": [
       "<Figure size 432x288 with 1 Axes>"
      ]
     },
     "metadata": {
      "needs_background": "light"
     },
     "output_type": "display_data"
    }
   ],
   "source": [
    "plt.scatter(x,y)\n",
    "plt.xlabel(\"Distance in log scale\")\n",
    "plt.ylabel(\"RSSI value in dBm\")\n",
    "plt.show()"
   ]
  },
  {
   "cell_type": "code",
   "execution_count": 5,
   "id": "3b6ec8f6",
   "metadata": {},
   "outputs": [
    {
     "data": {
      "text/plain": [
       "[<matplotlib.lines.Line2D at 0x220767a8310>]"
      ]
     },
     "execution_count": 5,
     "metadata": {},
     "output_type": "execute_result"
    },
    {
     "data": {
      "image/png": "[encoded data removed]",
      "text/plain": [
       "<Figure size 432x288 with 1 Axes>"
      ]
     },
     "metadata": {
      "needs_background": "light"
     },
     "output_type": "display_data"
    }
   ],
   "source": [
    "m,b=np.polyfit(x,y,1) #m=slope b=intercept\n",
    "plt.scatter(x,y)\n",
    "plt.xlabel(\"Distance in log scale\")\n",
    "plt.ylabel(\"RSSI value in dBm\")\n",
    "plt.plot(x,m*x+b)"
   ]
  },
  {
   "cell_type": "code",
   "execution_count": 6,
   "id": "34983be6",
   "metadata": {},
   "outputs": [
    {
     "name": "stdout",
     "output_type": "stream",
     "text": [
      "slope= -22.477739128723915\n",
      "Path_loss_exponent is: 2.2477739128723915\n"
     ]
    }
   ],
   "source": [
    "#slope=-10*path loss exponent\n",
    "print(\"slope=\",m)\n",
    "Path_loss_exponent=m/10\n",
    "print(\"Path_loss_exponent is:\",abs(Path_loss_exponent))"
   ]
  },
  {
   "cell_type": "code",
   "execution_count": 7,
   "id": "c79973e9",
   "metadata": {},
   "outputs": [
    {
     "data": {
      "text/plain": [
       "[-45.97583962739642,\n",
       " -64.97173290903277,\n",
       " -81.22546888218942,\n",
       " -82.46281371784664,\n",
       " -69.38399273494431,\n",
       " -75.69634000539077,\n",
       " -52.74231333985228,\n",
       " -66.275260764764,\n",
       " -91.21986967290391,\n",
       " -94.69223328702712,\n",
       " -70.23339414866615,\n",
       " -72.41171214002247,\n",
       " -56.700446723754425,\n",
       " -67.42505382011242,\n",
       " -78.8472403265373,\n",
       " -93.56731147588198,\n",
       " -61.687105043664474,\n",
       " -86.87507354375819,\n",
       " -59.508787052308136,\n",
       " -71.0147677047257,\n",
       " -73.63354949335698,\n",
       " -76.5844026897216,\n",
       " -63.46692043621029]"
      ]
     },
     "execution_count": 7,
     "metadata": {},
     "output_type": "execute_result"
    }
   ],
   "source": [
    "u=[] \n",
    "for i in range(23):\n",
    "    u.append(m*x[i]+b)\n",
    "    \n",
    "u    "
   ]
  },
  {
   "cell_type": "code",
   "execution_count": 8,
   "id": "09a0ea32",
   "metadata": {},
   "outputs": [
    {
     "name": "stdout",
     "output_type": "stream",
     "text": [
      "variance= 1.4668121641605512\n"
     ]
    }
   ],
   "source": [
    "deviation=[]\n",
    "for i in range(23):\n",
    "    deviation.append((y[i]-u[i])**2)\n",
    "variance=sum(deviation)/len(deviation)\n",
    "print(\"variance=\",variance)"
   ]
  },
  {
   "cell_type": "markdown",
   "id": "0e8a097b",
   "metadata": {},
   "source": [
    "# Question (2)"
   ]
  },
  {
   "cell_type": "markdown",
   "id": "f2709d89",
   "metadata": {},
   "source": [
    "𝑃𝑟[𝑑]𝑑𝐵𝑚 = 𝑃𝑡[𝑑]𝑑𝐵𝑚 − 𝑃𝐿(𝑑)[𝑑𝐵]\n",
    "         = 𝑃𝑡[𝑑𝐵𝑚] − [𝑃L(𝑑0)]dB − 10𝑛 log10(d/d0)\n",
    "         = 𝑃𝑟 (𝑑0) [𝑑𝐵𝑚] − 10𝑛 log10(d/d0)"
   ]
  },
  {
   "cell_type": "code",
   "execution_count": 10,
   "id": "f0dc85c9",
   "metadata": {},
   "outputs": [
    {
     "data": {
      "text/plain": [
       "[4.648650558386007,\n",
       " 23.94099867406648,\n",
       " 36.06584425578226,\n",
       " 7.75834703056368,\n",
       " 15.892361022985314]"
      ]
     },
     "execution_count": 10,
     "metadata": {},
     "output_type": "execute_result"
    }
   ],
   "source": [
    "d0=1\n",
    "Pr_d0_dBm=-49\n",
    "therotical_dist=[]\n",
    "n=abs(Path_loss_exponent)\n",
    "for i in range(5):\n",
    "     therotical_dist.append(10**((Pr_d0_dBm-y[i+1])/(10*n)))\n",
    "therotical_dist"
   ]
  },
  {
   "cell_type": "code",
   "execution_count": 11,
   "id": "e8adaf20",
   "metadata": {},
   "outputs": [
    {
     "name": "stdout",
     "output_type": "stream",
     "text": [
      "Error in dist with actual value = [2.3513494416139933, 13.059001325933519, 5.93415574421774, 3.24165296943632, 5.107638977014686]\n",
      "avg_error= 5.938759691643251\n"
     ]
    }
   ],
   "source": [
    "error_in_dist=[]\n",
    "for i in range(5):\n",
    "    error_in_dist.append(dist[i+1]-therotical_dist[i])\n",
    "print(\"Error in dist with actual value =\",error_in_dist)    \n",
    "avg_error=sum(error_in_dist)/len(error_in_dist)\n",
    "print(\"avg_error=\",avg_error)"
   ]
  }
 ],
 "metadata": {
  "kernelspec": {
   "display_name": "Python 3 (ipykernel)",
   "language": "python",
   "name": "python3"
  },
  "language_info": {
   "codemirror_mode": {
    "name": "ipython",
    "version": 3
   },
   "file_extension": ".py",
   "mimetype": "text/x-python",
   "name": "python",
   "nbconvert_exporter": "python",
   "pygments_lexer": "ipython3",
   "version": "3.10.5"
  }
 },
 "nbformat": 4,
 "nbformat_minor": 5
}
