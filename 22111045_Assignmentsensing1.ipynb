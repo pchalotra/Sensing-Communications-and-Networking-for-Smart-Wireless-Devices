{
 "cells": [
  {
   "cell_type": "markdown",
   "id": "cc617df2",
   "metadata": {},
   "source": [
    "# Problem 1"
   ]
  },
  {
   "cell_type": "markdown",
   "id": "6718fb67",
   "metadata": {},
   "source": [
    "(1). A = \n",
    "$\\begin{bmatrix} 1 & 0 \\\\0 & 1 \\\\\\end{bmatrix}$\n",
    "\n",
    "In matrix A both the columns are linearly independent and rank(A)=2\n",
    "            Hence C(A)=2\n",
    "\n",
    "(2). B = \n",
    "$\\begin{bmatrix} 1 & 2 \\\\2 & 4 \\\\\\end{bmatrix}$\n",
    "\n",
    "matrix B\n",
    "            In matrix B  first and second column are on same line thats why second column is dependent on first and rank(B)=1 \n",
    "            Hence C(B)=1 \n",
    " \n",
    "(3). C =\n",
    "$\\begin{bmatrix} 1 & 2 & 3 \\\\0 & 0 & 4 \\\\\\end{bmatrix}$\n",
    "\n",
    "In matrix C \n",
    "            first and second column are on same line thats why second column is dependent\n",
    "            on first column and third column is linearly \n",
    "            independent to both the remaining columns and rank(C)=2  \n",
    "            Hence C(C)=2\n",
    " "
   ]
  },
  {
   "cell_type": "markdown",
   "id": "04088592",
   "metadata": {},
   "source": [
    "# Problem 2 (a)"
   ]
  },
  {
   "cell_type": "code",
   "execution_count": 1,
   "id": "bd87117f",
   "metadata": {},
   "outputs": [],
   "source": [
    "import math as m\n",
    "import numpy as np\n",
    "C=3*10**5  #In km/s"
   ]
  },
  {
   "cell_type": "code",
   "execution_count": 2,
   "id": "51200176",
   "metadata": {},
   "outputs": [
    {
     "name": "stdout",
     "output_type": "stream",
     "text": [
      "User location [100 100 100]\n"
     ]
    }
   ],
   "source": [
    "# fix position of user\n",
    "u=np.array([100,100,100])\n",
    "print(\"User location\",u)\n",
    "s=np.array([[500,450,300],[550,300,250],[450,350,250],[300,450,500],[450,200,300]])"
   ]
  },
  {
   "cell_type": "code",
   "execution_count": 3,
   "id": "9b2646b4",
   "metadata": {},
   "outputs": [
    {
     "name": "stdout",
     "output_type": "stream",
     "text": [
      "Time taken by satellite 1 = 0.001892969448600091\n",
      "Time taken by satellite 2 = 0.0017159383568311668\n",
      "Time taken by satellite 3 = 0.0015184055965240498\n",
      "Time taken by satellite 4 = 0.001892969448600091\n",
      "Time taken by satellite 5 = 0.0013844373104863457\n",
      "Distance of satellites: [567.8908345800273, 514.78150704935, 455.52167895721493, 567.8908345800273, 415.33119314590374]\n"
     ]
    }
   ],
   "source": [
    "d=[]\n",
    "t1=[]\n",
    "for i in range(0,5):\n",
    "        x=(m.sqrt(((s[i]-u)**2).sum())) \n",
    "        t=x/C\n",
    "        t1.append(t)\n",
    "        d.append(x)\n",
    "        \n",
    "for i in range(0,5):       \n",
    "    print(\"Time taken by satellite\",i+1,\"=\",t1[i])        \n",
    "print(\"Distance of satellites:\",d)\n",
    "        "
   ]
  },
  {
   "cell_type": "markdown",
   "id": "16785c1f",
   "metadata": {},
   "source": [
    " # Problem 2 (b)"
   ]
  },
  {
   "cell_type": "code",
   "execution_count": 4,
   "id": "2833b836",
   "metadata": {},
   "outputs": [],
   "source": [
    "b=[]\n",
    "for i in range(0,4):\n",
    "    a1=2*(s[i+1][0]-s[i][0])\n",
    "    a2=2*(s[i+1][1]-s[i][1])\n",
    "    a3=2*(s[i+1][2]-s[i][2])\n",
    "    a4=2*(d[i]-d[i+1])\n",
    "    b.append(a1)\n",
    "    b.append(a2)\n",
    "    b.append(a3)\n",
    "    b.append(a4)\n",
    "A=np.array(b)    \n",
    "A=A.reshape(4,4)\n",
    "\n",
    "                                   "
   ]
  },
  {
   "cell_type": "code",
   "execution_count": 5,
   "id": "8f8b3a0e",
   "metadata": {},
   "outputs": [],
   "source": [
    "B=[]\n",
    "for i in range(0,4):\n",
    "        c1=(d[i]**2-d[i+1]**2)-(s[i][0]**2-s[i+1][0]**2)-(s[i][1]**2-s[i+1][1]**2)-(s[i][2]**2-s[i+1][2]**2)\n",
    "        B.append(c1)\n",
    "B=np.array(B)\n",
    "B=B.reshape(4,1)\n"
   ]
  },
  {
   "cell_type": "code",
   "execution_count": 6,
   "id": "66e4e9ea",
   "metadata": {},
   "outputs": [],
   "source": [
    "Ainv=np.linalg.inv(A)"
   ]
  },
  {
   "cell_type": "code",
   "execution_count": 7,
   "id": "85a2384e",
   "metadata": {},
   "outputs": [
    {
     "name": "stdout",
     "output_type": "stream",
     "text": [
      "User location same as given\n",
      " [100.] [100.] [100.]\n"
     ]
    }
   ],
   "source": [
    "result=np.dot(Ainv,B)\n",
    "print(\"User location same as given\\n\",result[0],result[1],result[2])    "
   ]
  },
  {
   "cell_type": "markdown",
   "id": "0e652443",
   "metadata": {},
   "source": [
    "# Problem 2 (c)"
   ]
  },
  {
   "cell_type": "code",
   "execution_count": 8,
   "id": "047917a7",
   "metadata": {},
   "outputs": [],
   "source": [
    "import random as r"
   ]
  },
  {
   "cell_type": "code",
   "execution_count": 9,
   "id": "92b9bf8f",
   "metadata": {},
   "outputs": [],
   "source": [
    "te=[]\n",
    "k=r.random()  #take random error in seconds\n",
    "for i in range (0,5):\n",
    "    tr=t1[i]+k          \n",
    "    te.append(tr)\n",
    "te=np.array(te)\n",
    "\n"
   ]
  },
  {
   "cell_type": "code",
   "execution_count": 10,
   "id": "f5ab0e3a",
   "metadata": {},
   "outputs": [],
   "source": [
    "de=[]\n",
    "for i in range(0,5):\n",
    "    dr=te[i]*C\n",
    "    de.append(dr)\n",
    "  "
   ]
  },
  {
   "cell_type": "code",
   "execution_count": 11,
   "id": "e31da00f",
   "metadata": {},
   "outputs": [],
   "source": [
    "ce=[]\n",
    "for i in range(0,4):\n",
    "        c1=(de[i]**2-de[i+1]**2)-(s[i][0]**2-s[i+1][0]**2)-(s[i][1]**2-s[i+1][1]**2)-(s[i][2]**2-s[i+1][2]**2)\n",
    "        ce.append(c1)\n",
    "B1=np.array(ce)\n",
    "B1=B1.reshape(4,1)\n"
   ]
  },
  {
   "cell_type": "code",
   "execution_count": 12,
   "id": "e766109b",
   "metadata": {},
   "outputs": [],
   "source": [
    "b=[]\n",
    "for i in range(0,4):\n",
    "    a1=2*(s[i+1][0]-s[i][0])\n",
    "    a2=2*(s[i+1][1]-s[i][1])\n",
    "    a3=2*(s[i+1][2]-s[i][2])\n",
    "    a4=2*(de[i]-de[i+1])\n",
    "    b.append(a1)\n",
    "    b.append(a2)\n",
    "    b.append(a3)\n",
    "    b.append(a4)\n",
    "A=np.array(b)    \n",
    "A=A.reshape(4,4)\n",
    "\n"
   ]
  },
  {
   "cell_type": "code",
   "execution_count": 13,
   "id": "5b76fb50",
   "metadata": {},
   "outputs": [],
   "source": [
    "A=np.linalg.inv(A) "
   ]
  },
  {
   "cell_type": "code",
   "execution_count": 14,
   "id": "717d73ac",
   "metadata": {},
   "outputs": [
    {
     "data": {
      "text/plain": [
       "array([[1.00000000e+02],\n",
       "       [1.00000000e+02],\n",
       "       [1.00000000e+02],\n",
       "       [1.70061294e+05]])"
      ]
     },
     "execution_count": 14,
     "metadata": {},
     "output_type": "execute_result"
    }
   ],
   "source": [
    "pe=np.dot(A,B1)\n",
    "pe"
   ]
  },
  {
   "cell_type": "code",
   "execution_count": 15,
   "id": "d9969821",
   "metadata": {},
   "outputs": [
    {
     "name": "stdout",
     "output_type": "stream",
     "text": [
      "Location Inaccuracy it shows: 3.676089145155608e-08\n"
     ]
    }
   ],
   "source": [
    "inaccuracy=m.sqrt(((pe[0]-u[0])**2)+((pe[1]-u[1])**2)+((pe[2]-u[2])**2))\n",
    "print(\"Location Inaccuracy it shows:\",inaccuracy)\n",
    "   "
   ]
  },
  {
   "cell_type": "markdown",
   "id": "403cf35f",
   "metadata": {},
   "source": [
    "# Problem 2 (d)"
   ]
  },
  {
   "cell_type": "code",
   "execution_count": 16,
   "id": "f100c91a",
   "metadata": {},
   "outputs": [],
   "source": [
    "import matplotlib.pyplot as plt"
   ]
  },
  {
   "cell_type": "code",
   "execution_count": 17,
   "id": "cdb0bf35",
   "metadata": {},
   "outputs": [],
   "source": [
    "deltat=[]\n",
    "deltax=[]\n",
    "x=[]\n",
    "for i in range(0,5):\n",
    "    k=r.random()\n",
    "    x.append(k)\n",
    "x.sort()\n",
    "#print(x)\n",
    "for i in range(0,5):\n",
    "    te1=[]\n",
    "    for j in range (0,5):\n",
    "        tr=t1[j]+x[i]\n",
    "        te1.append(tr)\n",
    "    te1=np.array(te1)\n",
    "    de1=[]\n",
    "    for i in range(0,5):\n",
    "        dr=te1[i]*C\n",
    "        de1.append(dr)\n",
    "    de1 \n",
    "    ce=[]\n",
    "    for i in range(0,4):\n",
    "        c1=(de1[i]**2-de1[i+1]**2)-(s[i][0]**2-s[i+1][0]**2)-(s[i][1]**2-s[i+1][1]**2)-(s[i][2]**2-s[i+1][2]**2)\n",
    "        ce.append(c1)\n",
    "    B1=np.array(ce)\n",
    "    B1=B1.reshape(4,1)\n",
    "    b=[]\n",
    "    for i in range(0,4):\n",
    "        a1=2*(s[i+1][0]-s[i][0])\n",
    "        a2=2*(s[i+1][1]-s[i][1])\n",
    "        a3=2*(s[i+1][2]-s[i][2])\n",
    "        a4=2*(de1[i]-de1[i+1])\n",
    "        b.append([a1,a2,a3,a4])\n",
    "    A=np.array(b)    \n",
    "    A=A.reshape(4,4)\n",
    "    A\n",
    "    A=np.linalg.inv(A) \n",
    "    pe=np.dot(A,B1)\n",
    "    inaccuracy=m.sqrt(((pe[0]-u[0])**2)+((pe[1]-u[1])**2)+((pe[2]-u[2])**2))\n",
    "    deltax.append(inaccuracy)"
   ]
  },
  {
   "cell_type": "code",
   "execution_count": 18,
   "id": "04a9e0c5",
   "metadata": {},
   "outputs": [
    {
     "data": {
      "image/png": "[encoded data removed]",
      "text/plain": [
       "<Figure size 432x288 with 1 Axes>"
      ]
     },
     "metadata": {
      "needs_background": "light"
     },
     "output_type": "display_data"
    }
   ],
   "source": [
    "plt.plot(x,deltax)\n",
    "plt.xlabel('timing_error')\n",
    "plt.ylabel('localization_error')\n",
    "plt.show()"
   ]
  },
  {
   "cell_type": "code",
   "execution_count": 19,
   "id": "b98e4a44",
   "metadata": {},
   "outputs": [
    {
     "name": "stdout",
     "output_type": "stream",
     "text": [
      "avg_loc_error: 4.455143102070953e-08\n"
     ]
    }
   ],
   "source": [
    "summ = sum(deltax)\n",
    "lenn = len(deltax)\n",
    "avg_loc_error = summ / lenn\n",
    "print(\"avg_loc_error:\",avg_loc_error)"
   ]
  },
  {
   "cell_type": "code",
   "execution_count": null,
   "id": "a37d7355",
   "metadata": {},
   "outputs": [],
   "source": []
  }
 ],
 "metadata": {
  "kernelspec": {
   "display_name": "Python 3 (ipykernel)",
   "language": "python",
   "name": "python3"
  },
  "language_info": {
   "codemirror_mode": {
    "name": "ipython",
    "version": 3
   },
   "file_extension": ".py",
   "mimetype": "text/x-python",
   "name": "python",
   "nbconvert_exporter": "python",
   "pygments_lexer": "ipython3",
   "version": "3.10.5"
  }
 },
 "nbformat": 4,
 "nbformat_minor": 5
}
