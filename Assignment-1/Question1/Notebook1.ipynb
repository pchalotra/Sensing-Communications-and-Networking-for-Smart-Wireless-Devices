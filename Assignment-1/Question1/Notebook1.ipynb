{
 "cells": [
  {
   "cell_type": "code",
   "execution_count": null,
   "id": "cdf4ea45",
   "metadata": {},
   "outputs": [],
   "source": [
    "punctuations=[\"।\",\";\",\",\",\":\",\"!\",'\"',\"?\",\":-\",\"-\",\"{\",\"(\",\"}\",\")\",\"_\",\"०\",\"S\",\"―\",\"=\",\"[\",\"]\",\"......\",\":-\",\".\",\"॥\",'”',\"|\"]\n",
    "count=0\n",
    "tokens=[]\n",
    "f= open('output.txt',encoding= 'utf-8') \n",
    "for line in f:        \n",
    "        new_line = \"\"\n",
    "        for i in line:\n",
    "            if i not in punctuations:\n",
    "                new_line += i\n",
    "        line = new_line\n",
    "        tokens+=line.split()\n",
    "tokens       "
   ]
  },
  {
   "cell_type": "code",
   "execution_count": null,
   "id": "a0aca53e",
   "metadata": {},
   "outputs": [],
   "source": [
    "list1=[\"ा\", \"ि\", \"ी\", \"ु\", \"ू\", \"े\", \"ो\", \"ै\", \"ौ\", \"ृ\", \"ॄ\", \"ॉ\", \"ं\"]\n",
    "dict={\"ा\":\"आ\",\"ि\":\"इ\",\"ी\":\"ई\",\"ु\":\"उ\",\"ू\":\"ऊ\",\"े\":\"ए\",\"ै\":\"ऐ\",\"ो\":\"ओ\",\"ौ\":\"औ\", \"ं\":\"अं\",\"ृ\":\"ऋ\",'ॉ':\"ऑ\"}\n",
    "vowels = [\"ा\", \"ि\", \"ी\", \"ु\", \"ू\", \"े\", \"ो\", \"ै\", \"ौ\", \"ृ\", \"ॄ\", \"ॉ\", \"ं\", \"्\",\"अ\", \"आ\", \"इ\", \"ई\", \"उ\", \"ऊ\", \"ऋ\",\"ए\", \"ऐ\", \"ओ\", \"औ\", \"अं\", \"अः\"]\n",
    "def split_word(word):\n",
    "    temp = \"\"\n",
    "    split_words = []\n",
    "    for i in range(len(word)):\n",
    "        temp += word[i]\n",
    "        if word[i]=='्': \n",
    "            temp=word[i-1]+chr(2381)\n",
    "            split_words.pop()\n",
    "            #split_words.append(temp)\n",
    "            temp = \"\"\n",
    "        if word[i] not in vowels and i!=0  and not word[i].isdigit() : \n",
    "            temp=word[i]+chr(2381)\n",
    "           # split_words.pop()\n",
    "            split_words.append(temp)\n",
    "            split_words.append('अ')\n",
    "            temp = \"\"\n",
    "        if word[i] not in vowels and i==0  and not word[i].isdigit() : \n",
    "            temp=word[i]+chr(2381)\n",
    "            split_words.append(temp)\n",
    "            split_words.append('अ')\n",
    "            temp = \"\"  \n",
    "        if word[i]  in list1: \n",
    "            temp=word[i-1]+chr(2381)\n",
    "            split_words.pop()\n",
    "            #split_words.append(temp)\n",
    "            split_words.append(dict[word[i]])\n",
    "            temp = \"\"  \n",
    "        if temp != \"\":\n",
    "            split_words.append(temp)\n",
    "            temp=\"\"\n",
    "    return split_words"
   ]
  },
  {
   "cell_type": "code",
   "execution_count": null,
   "id": "2f5d99a2",
   "metadata": {},
   "outputs": [],
   "source": [
    "split_word('कमल')"
   ]
  },
  {
   "cell_type": "code",
   "execution_count": null,
   "id": "47d0dc8d",
   "metadata": {},
   "outputs": [],
   "source": [
    "split_word('31')"
   ]
  },
  {
   "cell_type": "code",
   "execution_count": null,
   "id": "89473597",
   "metadata": {},
   "outputs": [],
   "source": [
    "split_word('क्षत्रिय')"
   ]
  }
 ],
 "metadata": {
  "kernelspec": {
   "display_name": "Python 3 (ipykernel)",
   "language": "python",
   "name": "python3"
  },
  "language_info": {
   "codemirror_mode": {
    "name": "ipython",
    "version": 3
   },
   "file_extension": ".py",
   "mimetype": "text/x-python",
   "name": "python",
   "nbconvert_exporter": "python",
   "pygments_lexer": "ipython3",
   "version": "3.10.5"
  }
 },
 "nbformat": 4,
 "nbformat_minor": 5
}
